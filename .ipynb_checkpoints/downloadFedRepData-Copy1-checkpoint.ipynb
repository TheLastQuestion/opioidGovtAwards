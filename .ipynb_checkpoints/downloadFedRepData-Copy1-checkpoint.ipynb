{
 "cells": [
  {
   "cell_type": "markdown",
   "metadata": {},
   "source": [
    "# Download and concatenate project and abstract data"
   ]
  },
  {
   "cell_type": "code",
   "execution_count": 1,
   "metadata": {},
   "outputs": [],
   "source": [
    "import time\n",
    "nb_start_time = time.time()\n",
    "\n",
    "import pandas as pd\n",
    "import numpy as np\n",
    "from urllib.request import urlopen\n",
    "from zipfile import ZipFile\n",
    "from io import BytesIO"
   ]
  },
  {
   "cell_type": "code",
   "execution_count": 2,
   "metadata": {},
   "outputs": [
    {
     "data": {
      "text/plain": [
       "'/Users/bryant/Documents/nyuHpcTopicModeling'"
      ]
     },
     "execution_count": 2,
     "metadata": {},
     "output_type": "execute_result"
    }
   ],
   "source": [
    "# working on Prince or locally?\n",
    "%pwd"
   ]
  },
  {
   "cell_type": "code",
   "execution_count": 3,
   "metadata": {},
   "outputs": [
    {
     "name": "stdout",
     "output_type": "stream",
     "text": [
      "\n",
      "\n",
      "Downloading https://federalreporter.nih.gov/FileDownload/DownloadFile?fileToDownload=FedRePORTER_PRJ_C_FY2001.zip\n",
      "Extracting FedRePORTER_PRJ_C_FY2001.csv\n",
      "Appending FedRePORTER_PRJ_C_FY2001\n",
      "\n",
      "\n",
      "(1008, 24)\n",
      "\n",
      "\n",
      "Downloading https://federalreporter.nih.gov/FileDownload/DownloadFile?fileToDownload=FedRePORTER_PRJ_C_FY2002.zip\n",
      "Extracting FedRePORTER_PRJ_C_FY2002.csv\n",
      "Appending FedRePORTER_PRJ_C_FY2002\n",
      "\n",
      "\n",
      "(1359, 24)\n",
      "\n",
      "\n",
      "Downloading https://federalreporter.nih.gov/FileDownload/DownloadFile?fileToDownload=FedRePORTER_PRJ_C_FY2003.zip\n",
      "Extracting FedRePORTER_PRJ_C_FY2003.csv\n",
      "Appending FedRePORTER_PRJ_C_FY2003\n",
      "\n",
      "\n",
      "(1669, 24)\n",
      "\n",
      "\n",
      "Downloading https://federalreporter.nih.gov/FileDownload/DownloadFile?fileToDownload=FedRePORTER_PRJ_C_FY2004.zip\n",
      "Extracting FedRePORTER_PRJ_C_FY2004.csv\n",
      "Appending FedRePORTER_PRJ_C_FY2004\n",
      "\n",
      "\n",
      "(2310, 24)\n",
      "\n",
      "\n",
      "Downloading https://federalreporter.nih.gov/FileDownload/DownloadFile?fileToDownload=FedRePORTER_PRJ_C_FY2005.zip\n",
      "Extracting FedRePORTER_PRJ_C_FY2005.csv\n",
      "Appending FedRePORTER_PRJ_C_FY2005\n",
      "\n",
      "\n",
      "(2928, 24)\n",
      "\n",
      "\n",
      "Downloading https://federalreporter.nih.gov/FileDownload/DownloadFile?fileToDownload=FedRePORTER_PRJ_C_FY2006.zip\n",
      "Extracting FedRePORTER_PRJ_C_FY2006.csv\n",
      "Appending FedRePORTER_PRJ_C_FY2006\n",
      "\n",
      "\n",
      "(3568, 24)\n",
      "\n",
      "\n",
      "Downloading https://federalreporter.nih.gov/FileDownload/DownloadFile?fileToDownload=FedRePORTER_PRJ_C_FY2007.zip\n",
      "Extracting FedRePORTER_PRJ_C_FY2007.csv\n",
      "Appending FedRePORTER_PRJ_C_FY2007\n",
      "\n",
      "\n",
      "(4166, 24)\n",
      "\n",
      "\n",
      "Downloading https://federalreporter.nih.gov/FileDownload/DownloadFile?fileToDownload=FedRePORTER_PRJ_C_FY2008.zip\n",
      "Extracting FedRePORTER_PRJ_C_FY2008.csv\n",
      "Appending FedRePORTER_PRJ_C_FY2008\n"
     ]
    },
    {
     "name": "stderr",
     "output_type": "stream",
     "text": [
      "/Users/bryant/anaconda3/lib/python3.7/site-packages/IPython/core/interactiveshell.py:3020: DtypeWarning: Columns (12,20) have mixed types. Specify dtype option on import or set low_memory=False.\n",
      "  interactivity=interactivity, compiler=compiler, result=result)\n"
     ]
    },
    {
     "name": "stdout",
     "output_type": "stream",
     "text": [
      "\n",
      "\n",
      "(108242, 24)\n",
      "\n",
      "\n",
      "Downloading https://federalreporter.nih.gov/FileDownload/DownloadFile?fileToDownload=FedRePORTER_PRJ_C_FY2009.zip\n",
      "Extracting FedRePORTER_PRJ_C_FY2009.csv\n",
      "Appending FedRePORTER_PRJ_C_FY2009\n",
      "\n",
      "\n",
      "(226730, 24)\n",
      "\n",
      "\n",
      "Downloading https://federalreporter.nih.gov/FileDownload/DownloadFile?fileToDownload=FedRePORTER_PRJ_C_FY2010.zip\n",
      "Extracting FedRePORTER_PRJ_C_FY2010.csv\n",
      "Appending FedRePORTER_PRJ_C_FY2010\n",
      "\n",
      "\n",
      "(338130, 24)\n",
      "\n",
      "\n",
      "Downloading https://federalreporter.nih.gov/FileDownload/DownloadFile?fileToDownload=FedRePORTER_PRJ_C_FY2011.zip\n",
      "Extracting FedRePORTER_PRJ_C_FY2011.csv\n",
      "Appending FedRePORTER_PRJ_C_FY2011\n"
     ]
    },
    {
     "name": "stderr",
     "output_type": "stream",
     "text": [
      "/Users/bryant/anaconda3/lib/python3.7/site-packages/IPython/core/interactiveshell.py:3020: DtypeWarning: Columns (12) have mixed types. Specify dtype option on import or set low_memory=False.\n",
      "  interactivity=interactivity, compiler=compiler, result=result)\n"
     ]
    },
    {
     "name": "stdout",
     "output_type": "stream",
     "text": [
      "\n",
      "\n",
      "(436226, 24)\n",
      "\n",
      "\n",
      "Downloading https://federalreporter.nih.gov/FileDownload/DownloadFile?fileToDownload=FedRePORTER_PRJ_C_FY2012.zip\n",
      "Extracting FedRePORTER_PRJ_C_FY2012.csv\n",
      "Appending FedRePORTER_PRJ_C_FY2012\n",
      "\n",
      "\n",
      "(529629, 24)\n",
      "\n",
      "\n",
      "Downloading https://federalreporter.nih.gov/FileDownload/DownloadFile?fileToDownload=FedRePORTER_PRJ_C_FY2013.zip\n",
      "Extracting FedRePORTER_PRJ_C_FY2013.csv\n",
      "Appending FedRePORTER_PRJ_C_FY2013\n"
     ]
    },
    {
     "name": "stderr",
     "output_type": "stream",
     "text": [
      "/Users/bryant/anaconda3/lib/python3.7/site-packages/IPython/core/interactiveshell.py:3020: DtypeWarning: Columns (20) have mixed types. Specify dtype option on import or set low_memory=False.\n",
      "  interactivity=interactivity, compiler=compiler, result=result)\n"
     ]
    },
    {
     "name": "stdout",
     "output_type": "stream",
     "text": [
      "\n",
      "\n",
      "(621318, 24)\n",
      "\n",
      "\n",
      "Downloading https://federalreporter.nih.gov/FileDownload/DownloadFile?fileToDownload=FedRePORTER_PRJ_C_FY2014.zip\n",
      "Extracting FedRePORTER_PRJ_C_FY2014.csv\n",
      "Appending FedRePORTER_PRJ_C_FY2014\n",
      "\n",
      "\n",
      "(712307, 24)\n",
      "\n",
      "\n",
      "Downloading https://federalreporter.nih.gov/FileDownload/DownloadFile?fileToDownload=FedRePORTER_PRJ_C_FY2015.zip\n",
      "Extracting FedRePORTER_PRJ_C_FY2015.csv\n",
      "Appending FedRePORTER_PRJ_C_FY2015\n",
      "\n",
      "\n",
      "(804620, 24)\n",
      "\n",
      "\n",
      "Downloading https://federalreporter.nih.gov/FileDownload/DownloadFile?fileToDownload=FedRePORTER_PRJ_C_FY2016.zip\n",
      "Extracting FedRePORTER_PRJ_C_FY2016.csv\n",
      "Appending FedRePORTER_PRJ_C_FY2016\n",
      "\n",
      "\n",
      "(895761, 24)\n",
      "\n",
      "\n",
      "Downloading https://federalreporter.nih.gov/FileDownload/DownloadFile?fileToDownload=FedRePORTER_PRJ_C_FY2017.zip\n",
      "Extracting FedRePORTER_PRJ_C_FY2017.csv\n",
      "Appending FedRePORTER_PRJ_C_FY2017\n",
      "\n",
      "\n",
      "(983017, 24)\n",
      "\n",
      "\n",
      "Downloading https://federalreporter.nih.gov/FileDownload/DownloadFile?fileToDownload=FedRePORTER_PRJ_C_FY2018.zip\n",
      "Extracting FedRePORTER_PRJ_C_FY2018.csv\n",
      "Appending FedRePORTER_PRJ_C_FY2018\n",
      "\n",
      "\n",
      "(1075525, 24)\n",
      "\n",
      "\n",
      "00:02:52\n"
     ]
    }
   ],
   "source": [
    "# bring in project data, starting with 2000\n",
    "start_time = time.time()\n",
    "\n",
    "z = urlopen('https://federalreporter.nih.gov/FileDownload/DownloadFile?fileToDownload=FedRePORTER_PRJ_C_FY2000.zip')\n",
    "zipProjects = ZipFile(BytesIO(z.read())).extract('FedRePORTER_PRJ_C_FY2000.csv')\n",
    "projects = pd.read_csv(zipProjects, skipinitialspace=True, encoding='utf-8')\n",
    "\n",
    "# loop through rest of years, adding to original df\n",
    "\n",
    "# setup\n",
    "fiscal_years = ['2001','2002','2003','2004','2005','2006','2007','2008','2009',\n",
    "    '2010','2011','2012','2013','2014','2015','2016','2017','2018']\n",
    "prefix = 'FedRePORTER_PRJ_C_FY'\n",
    "\n",
    "# concat function\n",
    "for year in fiscal_years:\n",
    "    file = prefix + year\n",
    "    zipUrl = 'https://federalreporter.nih.gov/FileDownload/DownloadFile?fileToDownload=' + file + '.zip'\n",
    "    csvFile = prefix + year + '.csv'\n",
    "    \n",
    "    print('\\n')\n",
    "    print('Downloading ' + zipUrl)\n",
    "    z = urlopen(zipUrl)\n",
    "    \n",
    "    print('Extracting ' + csvFile)\n",
    "    zipProjects = ZipFile(BytesIO(z.read())).extract(file + '.csv')\n",
    "    \n",
    "    print('Appending ' + file)\n",
    "    projects = projects.append(pd.read_csv(csvFile, skipinitialspace=True, encoding='utf-8'), ignore_index=True)\n",
    "    \n",
    "    print('\\n')\n",
    "    print(projects.shape)\n",
    "\n",
    "elapsed_time = time.time() - start_time\n",
    "print('\\n')\n",
    "print(time.strftime(\"%H:%M:%S\", time.gmtime(elapsed_time)))"
   ]
  },
  {
   "cell_type": "code",
   "execution_count": 4,
   "metadata": {},
   "outputs": [
    {
     "name": "stdout",
     "output_type": "stream",
     "text": [
      "\n",
      "\n",
      "Downloading https://federalreporter.nih.gov/FileDownload/DownloadFile?fileToDownload=FedRePORTER_PRJABS_C_FY2001.zip\n",
      "Extracting FedRePORTER_PRJABS_C_FY2001.csv\n",
      "Appending FedRePORTER_PRJABS_C_FY2001\n",
      "\n",
      "\n",
      "(876, 2)\n",
      "\n",
      "\n",
      "Downloading https://federalreporter.nih.gov/FileDownload/DownloadFile?fileToDownload=FedRePORTER_PRJABS_C_FY2002.zip\n",
      "Extracting FedRePORTER_PRJABS_C_FY2002.csv\n",
      "Appending FedRePORTER_PRJABS_C_FY2002\n",
      "\n",
      "\n",
      "(1158, 2)\n",
      "\n",
      "\n",
      "Downloading https://federalreporter.nih.gov/FileDownload/DownloadFile?fileToDownload=FedRePORTER_PRJABS_C_FY2003.zip\n",
      "Extracting FedRePORTER_PRJABS_C_FY2003.csv\n",
      "Appending FedRePORTER_PRJABS_C_FY2003\n",
      "\n",
      "\n",
      "(1400, 2)\n",
      "\n",
      "\n",
      "Downloading https://federalreporter.nih.gov/FileDownload/DownloadFile?fileToDownload=FedRePORTER_PRJABS_C_FY2004.zip\n",
      "Extracting FedRePORTER_PRJABS_C_FY2004.csv\n",
      "Appending FedRePORTER_PRJABS_C_FY2004\n",
      "\n",
      "\n",
      "(1973, 2)\n",
      "\n",
      "\n",
      "Downloading https://federalreporter.nih.gov/FileDownload/DownloadFile?fileToDownload=FedRePORTER_PRJABS_C_FY2005.zip\n",
      "Extracting FedRePORTER_PRJABS_C_FY2005.csv\n",
      "Appending FedRePORTER_PRJABS_C_FY2005\n",
      "\n",
      "\n",
      "(2531, 2)\n",
      "\n",
      "\n",
      "Downloading https://federalreporter.nih.gov/FileDownload/DownloadFile?fileToDownload=FedRePORTER_PRJABS_C_FY2006.zip\n",
      "Extracting FedRePORTER_PRJABS_C_FY2006.csv\n",
      "Appending FedRePORTER_PRJABS_C_FY2006\n",
      "\n",
      "\n",
      "(3114, 2)\n",
      "\n",
      "\n",
      "Downloading https://federalreporter.nih.gov/FileDownload/DownloadFile?fileToDownload=FedRePORTER_PRJABS_C_FY2007.zip\n",
      "Extracting FedRePORTER_PRJABS_C_FY2007.csv\n",
      "Appending FedRePORTER_PRJABS_C_FY2007\n",
      "\n",
      "\n",
      "(3660, 2)\n",
      "\n",
      "\n",
      "Downloading https://federalreporter.nih.gov/FileDownload/DownloadFile?fileToDownload=FedRePORTER_PRJABS_C_FY2008.zip\n",
      "Extracting FedRePORTER_PRJABS_C_FY2008.csv\n",
      "Appending FedRePORTER_PRJABS_C_FY2008\n",
      "\n",
      "\n",
      "(104276, 2)\n",
      "\n",
      "\n",
      "Downloading https://federalreporter.nih.gov/FileDownload/DownloadFile?fileToDownload=FedRePORTER_PRJABS_C_FY2009.zip\n",
      "Extracting FedRePORTER_PRJABS_C_FY2009.csv\n",
      "Appending FedRePORTER_PRJABS_C_FY2009\n",
      "\n",
      "\n",
      "(219155, 2)\n",
      "\n",
      "\n",
      "Downloading https://federalreporter.nih.gov/FileDownload/DownloadFile?fileToDownload=FedRePORTER_PRJABS_C_FY2010.zip\n",
      "Extracting FedRePORTER_PRJABS_C_FY2010.csv\n",
      "Appending FedRePORTER_PRJABS_C_FY2010\n",
      "\n",
      "\n",
      "(326481, 2)\n",
      "\n",
      "\n",
      "Downloading https://federalreporter.nih.gov/FileDownload/DownloadFile?fileToDownload=FedRePORTER_PRJABS_C_FY2011.zip\n",
      "Extracting FedRePORTER_PRJABS_C_FY2011.csv\n",
      "Appending FedRePORTER_PRJABS_C_FY2011\n",
      "\n",
      "\n",
      "(420380, 2)\n",
      "\n",
      "\n",
      "Downloading https://federalreporter.nih.gov/FileDownload/DownloadFile?fileToDownload=FedRePORTER_PRJABS_C_FY2012.zip\n",
      "Extracting FedRePORTER_PRJABS_C_FY2012.csv\n",
      "Appending FedRePORTER_PRJABS_C_FY2012\n",
      "\n",
      "\n",
      "(509277, 2)\n",
      "\n",
      "\n",
      "Downloading https://federalreporter.nih.gov/FileDownload/DownloadFile?fileToDownload=FedRePORTER_PRJABS_C_FY2013.zip\n",
      "Extracting FedRePORTER_PRJABS_C_FY2013.csv\n",
      "Appending FedRePORTER_PRJABS_C_FY2013\n",
      "\n",
      "\n",
      "(596701, 2)\n",
      "\n",
      "\n",
      "Downloading https://federalreporter.nih.gov/FileDownload/DownloadFile?fileToDownload=FedRePORTER_PRJABS_C_FY2014.zip\n",
      "Extracting FedRePORTER_PRJABS_C_FY2014.csv\n",
      "Appending FedRePORTER_PRJABS_C_FY2014\n",
      "\n",
      "\n",
      "(683273, 2)\n",
      "\n",
      "\n",
      "Downloading https://federalreporter.nih.gov/FileDownload/DownloadFile?fileToDownload=FedRePORTER_PRJABS_C_FY2015.zip\n",
      "Extracting FedRePORTER_PRJABS_C_FY2015.csv\n",
      "Appending FedRePORTER_PRJABS_C_FY2015\n",
      "\n",
      "\n",
      "(771779, 2)\n",
      "\n",
      "\n",
      "Downloading https://federalreporter.nih.gov/FileDownload/DownloadFile?fileToDownload=FedRePORTER_PRJABS_C_FY2016.zip\n",
      "Extracting FedRePORTER_PRJABS_C_FY2016.csv\n",
      "Appending FedRePORTER_PRJABS_C_FY2016\n",
      "\n",
      "\n",
      "(861285, 2)\n",
      "\n",
      "\n",
      "Downloading https://federalreporter.nih.gov/FileDownload/DownloadFile?fileToDownload=FedRePORTER_PRJABS_C_FY2017.zip\n",
      "Extracting FedRePORTER_PRJABS_C_FY2017.csv\n",
      "Appending FedRePORTER_PRJABS_C_FY2017\n",
      "\n",
      "\n",
      "(948082, 2)\n",
      "\n",
      "\n",
      "Downloading https://federalreporter.nih.gov/FileDownload/DownloadFile?fileToDownload=FedRePORTER_PRJABS_C_FY2018.zip\n",
      "Extracting FedRePORTER_PRJABS_C_FY2018.csv\n",
      "Appending FedRePORTER_PRJABS_C_FY2018\n",
      "\n",
      "\n",
      "(1040239, 2)\n",
      "\n",
      "\n",
      "00:06:06\n"
     ]
    }
   ],
   "source": [
    "# bring in abstract data, starting with 2000\n",
    "start_time = time.time()\n",
    "\n",
    "z = urlopen('https://federalreporter.nih.gov/FileDownload/DownloadFile?fileToDownload=FedRePORTER_PRJABS_C_FY2000.zip')\n",
    "zipAbstracts = ZipFile(BytesIO(z.read())).extract('FedRePORTER_PRJABS_C_FY2000.csv')\n",
    "abstracts = pd.read_csv(zipAbstracts, skipinitialspace=True, encoding='utf-8')\n",
    "\n",
    "# loop through rest of years, adding to original df\n",
    "\n",
    "# setup\n",
    "fiscal_years = ['2001','2002','2003','2004','2005','2006','2007','2008','2009',\n",
    "    '2010','2011','2012','2013','2014','2015','2016','2017','2018']\n",
    "prefix = 'FedRePORTER_PRJABS_C_FY'\n",
    "\n",
    "# concat function\n",
    "for year in fiscal_years:\n",
    "    file = prefix + year\n",
    "    zipUrl = 'https://federalreporter.nih.gov/FileDownload/DownloadFile?fileToDownload=' + file + '.zip'\n",
    "    csvFile = prefix + year + '.csv'\n",
    "    \n",
    "    print('\\n')\n",
    "    print('Downloading ' + zipUrl)\n",
    "    z = urlopen(zipUrl)\n",
    "    \n",
    "    print('Extracting ' + csvFile)\n",
    "    zipAbstracts = ZipFile(BytesIO(z.read())).extract(file + '.csv')\n",
    "    \n",
    "    print('Appending ' + file)\n",
    "    abstracts = abstracts.append(pd.read_csv(csvFile, skipinitialspace=True, encoding='utf-8'), ignore_index=True)\n",
    "    print('\\n')\n",
    "    print(abstracts.shape)\n",
    "\n",
    "elapsed_time = time.time() - start_time\n",
    "\n",
    "print('\\n')\n",
    "print(time.strftime(\"%H:%M:%S\", time.gmtime(elapsed_time)))"
   ]
  },
  {
   "cell_type": "code",
   "execution_count": 5,
   "metadata": {},
   "outputs": [
    {
     "name": "stdout",
     "output_type": "stream",
     "text": [
      "(1040239, 25)\n",
      "\n",
      "\n",
      "00:00:58\n"
     ]
    }
   ],
   "source": [
    "start_time = time.time()\n",
    "\n",
    "# merge projects and abstracts by PROJECT_ID\n",
    "merged = pd.merge(projects, abstracts, on='PROJECT_ID')\n",
    "\n",
    "print(merged.shape)\n",
    "print('\\n')\n",
    "elapsed_time = time.time() - start_time\n",
    "print(time.strftime(\"%H:%M:%S\", time.gmtime(elapsed_time)))"
   ]
  },
  {
   "cell_type": "markdown",
   "metadata": {},
   "source": [
    "# clean up before saving"
   ]
  },
  {
   "cell_type": "code",
   "execution_count": 6,
   "metadata": {},
   "outputs": [
    {
     "data": {
      "text/plain": [
       "(1040239, 25)"
      ]
     },
     "execution_count": 6,
     "metadata": {},
     "output_type": "execute_result"
    }
   ],
   "source": [
    "merged.shape"
   ]
  },
  {
   "cell_type": "code",
   "execution_count": 7,
   "metadata": {},
   "outputs": [
    {
     "data": {
      "text/plain": [
       "(2370, 2)"
      ]
     },
     "execution_count": 7,
     "metadata": {},
     "output_type": "execute_result"
    }
   ],
   "source": [
    "# note that 2370 projects span multiple years\n",
    "repeats = merged.groupby('PROJECT_NUMBER').size().reset_index(name='count')\n",
    "print(repeats[repeats['count'] == 1].shape)\n",
    "print(repeats[repeats['count'] == 2].shape)\n",
    "print(repeats[repeats['count'] == 3].shape)\n",
    "print(repeats[repeats['count'] == 4].shape)\n",
    "print(repeats[repeats['count'] == 5].shape)\n",
    "print(repeats[repeats['count'] == 6].shape)\n",
    "print(repeats[repeats['count'] == 7].shape)\n",
    "print(repeats[repeats['count'] == 8].shape)\n",
    "print(repeats[repeats['count'] == 9].shape)\n",
    "print(repeats[repeats['count'] == 10].shape)\n",
    "print(repeats[repeats['count'] == 11].shape)\n",
    "print(repeats[repeats['count'] == 12].shape)\n",
    "print(repeats[repeats['count'] == 13].shape)\n",
    "print(repeats[repeats['count'] == 14].shape)\n"
   ]
  },
  {
   "cell_type": "code",
   "execution_count": 8,
   "metadata": {},
   "outputs": [
    {
     "data": {
      "text/plain": [
       "(1036237, 25)"
      ]
     },
     "execution_count": 8,
     "metadata": {},
     "output_type": "execute_result"
    }
   ],
   "source": [
    "# only keep the first instance, in cases of same project spanning multiple years\n",
    "deduped = merged.groupby('PROJECT_NUMBER').first().reset_index()\n",
    "deduped.shape"
   ]
  },
  {
   "cell_type": "code",
   "execution_count": 39,
   "metadata": {},
   "outputs": [
    {
     "data": {
      "text/plain": [
       "(148769, 25)"
      ]
     },
     "execution_count": 39,
     "metadata": {},
     "output_type": "execute_result"
    }
   ],
   "source": [
    "# only keep major projects (over $100k)\n",
    "deduped[deduped.FY_TOTAL_COST < 100000].shape"
   ]
  },
  {
   "cell_type": "code",
   "execution_count": 40,
   "metadata": {},
   "outputs": [
    {
     "data": {
      "text/plain": [
       "(694788, 25)"
      ]
     },
     "execution_count": 40,
     "metadata": {},
     "output_type": "execute_result"
    }
   ],
   "source": [
    "deduped_majors = deduped[deduped.FY_TOTAL_COST > 100000]\n",
    "deduped_majors.shape\n"
   ]
  },
  {
   "cell_type": "code",
   "execution_count": null,
   "metadata": {},
   "outputs": [],
   "source": []
  },
  {
   "cell_type": "code",
   "execution_count": null,
   "metadata": {},
   "outputs": [],
   "source": [
    "# export csv with progress so far\n",
    "start_time = time.time()\n",
    "\n",
    "deduped_majors.to_csv('mergedProjectsAbstracts.csv',encoding='utf-8-sig')\n",
    "\n",
    "print('\\n')\n",
    "elapsed_time = time.time() - start_time\n",
    "print(time.strftime(\"%H:%M:%S\", time.gmtime(elapsed_time)))"
   ]
  },
  {
   "cell_type": "code",
   "execution_count": null,
   "metadata": {},
   "outputs": [],
   "source": [
    "print('Time to run whole notebook: ')\n",
    "elapsed_time = time.time() - nb_start_time\n",
    "print(time.strftime(\"%H:%M:%S\", time.gmtime(elapsed_time)))"
   ]
  }
 ],
 "metadata": {
  "kernelspec": {
   "display_name": "Python 3",
   "language": "python",
   "name": "python3"
  },
  "language_info": {
   "codemirror_mode": {
    "name": "ipython",
    "version": 3
   },
   "file_extension": ".py",
   "mimetype": "text/x-python",
   "name": "python",
   "nbconvert_exporter": "python",
   "pygments_lexer": "ipython3",
   "version": "3.7.1"
  }
 },
 "nbformat": 4,
 "nbformat_minor": 2
}
