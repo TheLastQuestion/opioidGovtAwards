{
 "cells": [
  {
   "cell_type": "code",
   "execution_count": 1,
   "metadata": {},
   "outputs": [],
   "source": [
    "# adapted from Julia Lane course and https://stackabuse.com/python-for-nlp-topic-modeling/\n",
    "\n",
    "import pandas as pd\n",
    "import numpy as np\n",
    "import re\n",
    "import nltk\n",
    "import time\n",
    "from datetime import datetime"
   ]
  },
  {
   "cell_type": "code",
   "execution_count": 2,
   "metadata": {},
   "outputs": [],
   "source": [
    "# cd to the directory with project data\n",
    "# %cd '/path/to/your/data'"
   ]
  },
  {
   "cell_type": "code",
   "execution_count": 3,
   "metadata": {},
   "outputs": [
    {
     "name": "stdout",
     "output_type": "stream",
     "text": [
      "Reading in FedRePORTER_PRJ_C_FY2009.csv\n"
     ]
    },
    {
     "name": "stderr",
     "output_type": "stream",
     "text": [
      "/usr/local/Anaconda3-5.0.0-Linux-x86_64/envs/Wagner/lib/python2.7/site-packages/IPython/core/interactiveshell.py:2717: DtypeWarning: Columns (12,20) have mixed types. Specify dtype option on import or set low_memory=False.\n",
      "  interactivity=interactivity, compiler=compiler, result=result)\n"
     ]
    },
    {
     "name": "stdout",
     "output_type": "stream",
     "text": [
      "Reading in FedRePORTER_PRJ_C_FY2010.csv\n",
      "Reading in FedRePORTER_PRJ_C_FY2011.csv\n",
      "Reading in FedRePORTER_PRJ_C_FY2012.csv\n",
      "Reading in FedRePORTER_PRJ_C_FY2013.csv\n",
      "Reading in FedRePORTER_PRJ_C_FY2014.csv\n",
      "Reading in FedRePORTER_PRJ_C_FY2015.csv\n",
      "Reading in FedRePORTER_PRJ_C_FY2016.csv\n"
     ]
    },
    {
     "name": "stderr",
     "output_type": "stream",
     "text": [
      "/usr/local/Anaconda3-5.0.0-Linux-x86_64/envs/Wagner/lib/python2.7/site-packages/IPython/core/interactiveshell.py:2717: DtypeWarning: Columns (12) have mixed types. Specify dtype option on import or set low_memory=False.\n",
      "  interactivity=interactivity, compiler=compiler, result=result)\n"
     ]
    },
    {
     "name": "stdout",
     "output_type": "stream",
     "text": [
      "Reading in FedRePORTER_PRJ_C_FY2017.csv\n",
      "Reading in FedRePORTER_PRJ_C_FY2018.csv\n"
     ]
    },
    {
     "data": {
      "text/plain": [
       "'00:01:21'"
      ]
     },
     "execution_count": 3,
     "metadata": {},
     "output_type": "execute_result"
    }
   ],
   "source": [
    "start_time = time.time()\n",
    "# 10 years of project data\n",
    "fiscal_years = ['2010','2011','2012','2013','2014','2015','2016','2017','2018']\n",
    "prefix = 'FedRePORTER_PRJ_C_FY'\n",
    "suffix = '.csv'\n",
    "\n",
    "# initialize dataframe with fy09 data\n",
    "file = 'FedRePORTER_PRJ_C_FY2009.csv'\n",
    "print('Reading in ' + file)\n",
    "projects_df = (pd.read_csv(file,skipinitialspace=True,encoding='utf-8'))\n",
    "\n",
    "# concatenate 10 years of data\n",
    "for year in fiscal_years:\n",
    "    file = prefix + year + suffix\n",
    "    print('Reading in ' + file)\n",
    "    projects_df = projects_df.append(pd.read_csv(file, skipinitialspace=True, encoding='utf-8'), ignore_index=True)\n",
    "\n",
    "# new variable is 1 for rows with opioid in project term column\n",
    "projects_df['opioid'] = np.where(\n",
    "    projects_df['PROJECT_TERMS'].str.contains(\"opioid\",case=False, na=False), 1, '')\n",
    "\n",
    "# create a numeric version of our flag\n",
    "projects_df['opioid_num'] = pd.to_numeric(projects_df['opioid'])\n",
    "\n",
    "elapsed_time = time.time() - start_time\n",
    "time.strftime(\"%H:%M:%S\", time.gmtime(elapsed_time))\n"
   ]
  },
  {
   "cell_type": "code",
   "execution_count": 3,
   "metadata": {},
   "outputs": [],
   "source": [
    "# cd to the directory with abstracts data\n",
    "# %cd '/path/to/your/data'"
   ]
  },
  {
   "cell_type": "code",
   "execution_count": 5,
   "metadata": {},
   "outputs": [
    {
     "name": "stdout",
     "output_type": "stream",
     "text": [
      "Reading in FedRePORTER_PRJABS_C_FY2009.csv\n",
      "Reading in FedRePORTER_PRJABS_C_FY2010.csv\n",
      "Reading in FedRePORTER_PRJABS_C_FY2011.csv\n",
      "Reading in FedRePORTER_PRJABS_C_FY2012.csv\n",
      "Reading in FedRePORTER_PRJABS_C_FY2013.csv\n",
      "Reading in FedRePORTER_PRJABS_C_FY2014.csv\n",
      "Reading in FedRePORTER_PRJABS_C_FY2015.csv\n",
      "Reading in FedRePORTER_PRJABS_C_FY2016.csv\n",
      "Reading in FedRePORTER_PRJABS_C_FY2017.csv\n",
      "Reading in FedRePORTER_PRJABS_C_FY2018.csv\n"
     ]
    },
    {
     "data": {
      "text/plain": [
       "'00:01:07'"
      ]
     },
     "execution_count": 5,
     "metadata": {},
     "output_type": "execute_result"
    }
   ],
   "source": [
    "start_time = time.time()\n",
    "\n",
    "# 10 years of abstracts data\n",
    "fiscal_years = ['2010','2011','2012','2013','2014','2015','2016','2017','2018']\n",
    "prefix = 'FedRePORTER_PRJABS_C_FY'\n",
    "suffix = '.csv'\n",
    "\n",
    "# initialize dataframe with fy09 data\n",
    "file = 'FedRePORTER_PRJABS_C_FY2009.csv'\n",
    "print('Reading in ' + file)\n",
    "abstracts_df = (pd.read_csv(file,skipinitialspace=True,encoding='utf-8'))\n",
    "\n",
    "for year in fiscal_years:\n",
    "    file = prefix + year + suffix\n",
    "    print('Reading in ' + file)\n",
    "    abstracts_df = abstracts_df.append(pd.read_csv(file, skipinitialspace=True, encoding='utf-8'), ignore_index=True)\n",
    "\n",
    "elapsed_time = time.time() - start_time\n",
    "time.strftime(\"%H:%M:%S\", time.gmtime(elapsed_time))"
   ]
  },
  {
   "cell_type": "code",
   "execution_count": 6,
   "metadata": {},
   "outputs": [],
   "source": [
    "# Affilated terms from https://en.wikipedia.org/wiki/Opioid\n",
    "opioid_terms = ['opioid','opiate','morphine','heroin','percocet',\n",
    "                'vicoprofen','dextromethorphan','loperamide',\n",
    "                'naloxegol',\n",
    "                'hydrocodone','oxycodone','fentanyl','naloxone',\n",
    "                'analgesics', 'carfentanil','benzodiazepines',\n",
    "                'narcotic','opium','cocaine','codeine',\n",
    "                'pain relief','cancer pain','anesthesia','chronic pain',\n",
    "                'nerve pain','fibromyalgia',\n",
    "                'overdose','addiction','withdrawal','dependence',\n",
    "                'recreational use','euphoria','tolerance',\n",
    "                'controlled substance','over-prescription',\n",
    "                'peripheral nervous system','psychoactive','agonist',\n",
    "                'antagonist','blood-brain']"
   ]
  },
  {
   "cell_type": "code",
   "execution_count": 7,
   "metadata": {},
   "outputs": [
    {
     "data": {
      "text/plain": [
       "'00:09:24'"
      ]
     },
     "execution_count": 7,
     "metadata": {},
     "output_type": "execute_result"
    }
   ],
   "source": [
    "start_time = time.time()\n",
    "\n",
    "# keep only variables needed and remove missing values\n",
    "abstracts_10yrs = abstracts_df.dropna()\n",
    "\n",
    "# cut the end coding that interferes with cleaning script\n",
    "abstracts_10yrs = abstracts_10yrs[0:-1]\n",
    "\n",
    "#get rid of the punctuations and set all characters to lowercase\n",
    "nonchars = re.compile( r'\\W+|\\d+' )\n",
    "\n",
    "def clean(text):\n",
    "    return re.sub(nonchars, \" \", text).lower()\n",
    "\n",
    "abstracts_10yrs['cleanText'] = abstracts_10yrs['ABSTRACT'].apply(clean)\n",
    "\n",
    "elapsed_time = time.time() - start_time\n",
    "time.strftime(\"%H:%M:%S\", time.gmtime(elapsed_time))"
   ]
  },
  {
   "cell_type": "code",
   "execution_count": 8,
   "metadata": {},
   "outputs": [
    {
     "name": "stdout",
     "output_type": "stream",
     "text": [
      "The number of abstracts with three or more opioid terms is: 32647\n"
     ]
    },
    {
     "data": {
      "text/plain": [
       "'02:35:45'"
      ]
     },
     "execution_count": 8,
     "metadata": {},
     "output_type": "execute_result"
    }
   ],
   "source": [
    "start_time = time.time()\n",
    "\n",
    "# Count the appearances of our defined terms in each abstract\n",
    "def countTerm(text):\n",
    "    return len(re.findall(term,text))\n",
    "\n",
    "for term in opioid_terms:\n",
    "    abstracts_10yrs[term] = abstracts_10yrs['cleanText'].apply(countTerm)\n",
    "    \n",
    "# sum of all term frequencies by abstract\n",
    "abstracts_10yrs['sumTermCounts'] = abstracts_10yrs[opioid_terms].sum(axis=1)\n",
    "\n",
    "print('The number of abstracts with three or more opioid terms is: ' +\n",
    "     str(abstracts_10yrs[abstracts_10yrs['sumTermCounts']>2].shape[0]))\n",
    "\n",
    "elapsed_time = time.time() - start_time\n",
    "time.strftime(\"%H:%M:%S\", time.gmtime(elapsed_time))"
   ]
  },
  {
   "cell_type": "code",
   "execution_count": 9,
   "metadata": {},
   "outputs": [
    {
     "data": {
      "text/plain": [
       "'00:00:23'"
      ]
     },
     "execution_count": 9,
     "metadata": {},
     "output_type": "execute_result"
    }
   ],
   "source": [
    "start_time = time.time()\n",
    "\n",
    "# merge projects and abstracts by PROJECT_ID\n",
    "merged_df_10yrs = pd.merge(projects_df, abstracts_10yrs, on='PROJECT_ID')\n",
    "\n",
    "elapsed_time = time.time() - start_time\n",
    "time.strftime(\"%H:%M:%S\", time.gmtime(elapsed_time))"
   ]
  },
  {
   "cell_type": "code",
   "execution_count": 10,
   "metadata": {},
   "outputs": [],
   "source": [
    "# define compareTags function\n",
    "\n",
    "wikiThreshold = 2;\n",
    "\n",
    "def compareTags(row):\n",
    "    if (row['opioid_num'] == 1) & (row['sumTermCounts'] > wikiThreshold):\n",
    "        return 'both'\n",
    "    if row['opioid_num'] == 1:\n",
    "        return 'explicitOnly'\n",
    "    if row['sumTermCounts'] > wikiThreshold:\n",
    "        return 'wikiOnly'\n",
    "    return 'neither'"
   ]
  },
  {
   "cell_type": "code",
   "execution_count": 11,
   "metadata": {},
   "outputs": [
    {
     "name": "stdout",
     "output_type": "stream",
     "text": [
      "Number of projects\n"
     ]
    },
    {
     "data": {
      "text/plain": [
       "'00:01:44'"
      ]
     },
     "execution_count": 11,
     "metadata": {},
     "output_type": "execute_result"
    }
   ],
   "source": [
    "start_time = time.time()\n",
    "\n",
    "# compare 10yr data tags\n",
    "merged_df_10yrs['tagCompare'] = merged_df_10yrs.apply(compareTags, axis=1)\n",
    "\n",
    "print('Number of projects')\n",
    "merged_df_10yrs['tagCompare'].value_counts()\n",
    "\n",
    "elapsed_time = time.time() - start_time\n",
    "time.strftime(\"%H:%M:%S\", time.gmtime(elapsed_time))"
   ]
  },
  {
   "cell_type": "code",
   "execution_count": 12,
   "metadata": {},
   "outputs": [
    {
     "name": "stdout",
     "output_type": "stream",
     "text": [
      "Cost sums\n",
      "Neither:       339529264262.0\n",
      "Both:          2302111743.0\n",
      "Explicit only: 954076329.0\n",
      "Wiki only:     9840458684.0\n"
     ]
    }
   ],
   "source": [
    "print('Cost sums')\n",
    "print('Neither:       ' + str(merged_df_10yrs.FY_TOTAL_COST[merged_df_10yrs.tagCompare == 'neither'].sum()))\n",
    "print('Both:          ' + str(merged_df_10yrs.FY_TOTAL_COST[merged_df_10yrs.tagCompare == 'both'].sum()))\n",
    "print('Explicit only: ' + str(merged_df_10yrs.FY_TOTAL_COST[merged_df_10yrs.tagCompare == 'explicitOnly'].sum()))\n",
    "print('Wiki only:     ' + str(merged_df_10yrs.FY_TOTAL_COST[merged_df_10yrs.tagCompare == 'wikiOnly'].sum()))"
   ]
  },
  {
   "cell_type": "code",
   "execution_count": 4,
   "metadata": {},
   "outputs": [],
   "source": [
    "# cd to the directory where you want to save your data\n",
    "# %cd '/path/to/your/data'"
   ]
  },
  {
   "cell_type": "code",
   "execution_count": 15,
   "metadata": {},
   "outputs": [
    {
     "name": "stdout",
     "output_type": "stream",
     "text": [
      "00:17:31\n"
     ]
    }
   ],
   "source": [
    "# export csv with progress so far\n",
    "start_time = time.time()\n",
    "\n",
    "merged_df_10yrs.to_csv('opioidAnalyticalData.csv',encoding='utf-8-sig')\n",
    "\n",
    "elapsed_time = time.time() - start_time\n",
    "print(time.strftime(\"%H:%M:%S\", time.gmtime(elapsed_time)))"
   ]
  },
  {
   "cell_type": "code",
   "execution_count": null,
   "metadata": {},
   "outputs": [],
   "source": []
  }
 ],
 "metadata": {
  "kernelspec": {
   "display_name": "Python 3",
   "language": "python",
   "name": "python3"
  },
  "language_info": {
   "codemirror_mode": {
    "name": "ipython",
    "version": 3
   },
   "file_extension": ".py",
   "mimetype": "text/x-python",
   "name": "python",
   "nbconvert_exporter": "python",
   "pygments_lexer": "ipython3",
   "version": "3.7.1"
  }
 },
 "nbformat": 4,
 "nbformat_minor": 2
}
