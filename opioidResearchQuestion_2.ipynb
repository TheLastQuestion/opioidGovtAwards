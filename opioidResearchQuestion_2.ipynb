{
 "cells": [
  {
   "cell_type": "markdown",
   "metadata": {},
   "source": [
    "# Research Question 2: What do opioids-tagged projects look like over past *10* fiscal years?\n",
    "\n",
    "## RQ 2.1: How many opioids projects were funded in past ten fiscal years?\n",
    "* Answer: 8,384 out of 957,933 (or 0.875%)\n",
    "* (7965 at NIH)  \n",
    "\n",
    "## RQ 2.2: How many project dollars went to opioids projects in past ten fiscal years?\n",
    "* Answer: 3.3b out of 400b (or 0.847%)\n"
   ]
  },
  {
   "cell_type": "code",
   "execution_count": 3,
   "metadata": {},
   "outputs": [],
   "source": [
    "import pandas as pd\n",
    "import numpy as np\n",
    "\n",
    "# cd to the directory with data\n",
    "# %cd '/path/to/your/data'\n",
    "\n",
    "# download csv(s) of project data from https://federalreporter.nih.gov/FileDownload"
   ]
  },
  {
   "cell_type": "code",
   "execution_count": 19,
   "metadata": {},
   "outputs": [
    {
     "name": "stdout",
     "output_type": "stream",
     "text": [
      "Reading in FedRePORTER_PRJ_C_FY2010.csv\n",
      "Reading in FedRePORTER_PRJ_C_FY2011.csv\n"
     ]
    },
    {
     "name": "stderr",
     "output_type": "stream",
     "text": [
      "/Users/bryant/anaconda3/lib/python3.7/site-packages/IPython/core/interactiveshell.py:3020: DtypeWarning: Columns (12) have mixed types. Specify dtype option on import or set low_memory=False.\n",
      "  interactivity=interactivity, compiler=compiler, result=result)\n"
     ]
    },
    {
     "name": "stdout",
     "output_type": "stream",
     "text": [
      "Reading in FedRePORTER_PRJ_C_FY2012.csv\n",
      "Reading in FedRePORTER_PRJ_C_FY2013.csv\n",
      "Reading in FedRePORTER_PRJ_C_FY2014.csv\n",
      "Reading in FedRePORTER_PRJ_C_FY2015.csv\n",
      "Reading in FedRePORTER_PRJ_C_FY2016.csv\n",
      "Reading in FedRePORTER_PRJ_C_FY2017.csv\n",
      "Reading in FedRePORTER_PRJ_C_FY2018.csv\n"
     ]
    },
    {
     "data": {
      "text/plain": [
       "(966317, 24)"
      ]
     },
     "execution_count": 19,
     "metadata": {},
     "output_type": "execute_result"
    }
   ],
   "source": [
    "fiscal_years = ['2010','2011','2012','2013','2014','2015','2016','2017','2018']\n",
    "prefix = 'FedRePORTER_PRJ_C_FY'\n",
    "suffix = '.csv'\n",
    "\n",
    "# initialize dataframe with fy09 data\n",
    "file = 'FedRePORTER_PRJ_C_FY2009.csv'\n",
    "df = (pd.read_csv(file,skipinitialspace=True,encoding='utf-8'))\n",
    "\n",
    "for year in fiscal_years:\n",
    "    file = prefix + year + suffix\n",
    "    print('Reading in ' + file)\n",
    "    df = df.append(pd.read_csv(file, skipinitialspace=True, encoding='utf-8'), ignore_index=True)\n",
    "\n",
    "df.shape"
   ]
  },
  {
   "cell_type": "code",
   "execution_count": 21,
   "metadata": {},
   "outputs": [],
   "source": [
    "# new variable is 1 for rows with opioid in project term column\n",
    "df['opioid'] = np.where(\n",
    "    df['PROJECT_TERMS'].str.contains(\"opioid\",case=False, na=False), 1, '')\n",
    "\n",
    "# create a numeric version of our flag\n",
    "df['opioid_num'] = pd.to_numeric(df['opioid'])"
   ]
  },
  {
   "cell_type": "code",
   "execution_count": 22,
   "metadata": {},
   "outputs": [
    {
     "name": "stdout",
     "output_type": "stream",
     "text": [
      "# of opioid projects = 8384\n",
      "\n",
      "% opioid projects of total = %0.8752177866301715\n"
     ]
    },
    {
     "data": {
      "text/plain": [
       "AGENCY\n",
       "ACF           2.0\n",
       "AHRQ         28.0\n",
       "ALLCDC       83.0\n",
       "ARS           0.0\n",
       "CCCRP         0.0\n",
       "CDMRP        61.0\n",
       "CNRM          0.0\n",
       "DVBIC         0.0\n",
       "EPA           0.0\n",
       "FDA          20.0\n",
       "FS            0.0\n",
       "IES           0.0\n",
       "NASA          0.0\n",
       "NIDILRR       4.0\n",
       "NIFA          0.0\n",
       "NIH        7965.0\n",
       "NSF          36.0\n",
       "VA          185.0\n",
       "Name: opioid_num, dtype: float64"
      ]
     },
     "execution_count": 22,
     "metadata": {},
     "output_type": "execute_result"
    }
   ],
   "source": [
    "# RQ 2.1\n",
    "print('# of opioid projects = ' + str(df.opioid.value_counts()[1]) + '\\n')\n",
    "print('% opioid projects of total = %' + str(\n",
    "    100 * (df.opioid.value_counts()[1] / df.opioid.value_counts()[0])))\n",
    "\n",
    "grouped = df.groupby(['AGENCY'])\n",
    "grouped['opioid_num'].agg(np.sum)"
   ]
  },
  {
   "cell_type": "code",
   "execution_count": 24,
   "metadata": {},
   "outputs": [
    {
     "name": "stdout",
     "output_type": "stream",
     "text": [
      "Opioid project costs = $3346638620.0\n",
      "\n",
      "Total project costs = $395102282639.0\n",
      "\n",
      "Pct opioid costs over total = %0.8470309504786592\n"
     ]
    }
   ],
   "source": [
    "# RQ 2.2\n",
    "opioid_cost = df[df.opioid == '1']['FY_TOTAL_COST'].sum()\n",
    "total_cost = df['FY_TOTAL_COST'].sum()\n",
    "print('Opioid project costs = $' + str(opioid_cost))\n",
    "print('\\n' + 'Total project costs = $' + str(total_cost))\n",
    "print('\\n' + 'Pct opioid costs over total = %' + str(100 * (opioid_cost/total_cost)))"
   ]
  },
  {
   "cell_type": "code",
   "execution_count": null,
   "metadata": {},
   "outputs": [],
   "source": []
  }
 ],
 "metadata": {
  "kernelspec": {
   "display_name": "Python 3",
   "language": "python",
   "name": "python3"
  },
  "language_info": {
   "codemirror_mode": {
    "name": "ipython",
    "version": 3
   },
   "file_extension": ".py",
   "mimetype": "text/x-python",
   "name": "python",
   "nbconvert_exporter": "python",
   "pygments_lexer": "ipython3",
   "version": "3.7.1"
  }
 },
 "nbformat": 4,
 "nbformat_minor": 2
}
