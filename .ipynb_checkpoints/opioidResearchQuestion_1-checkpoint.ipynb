{
 "cells": [
  {
   "cell_type": "markdown",
   "metadata": {},
   "source": [
    "# Research Question 1: What FY18 projects in FederalReporter are explicitly tagged as having to do with opioids (in the project-terms field)?\n",
    "\n",
    "## RQ 1.1: How many opioids projects were funded in FY18?\n",
    "* Answer: 1,324 out of 91,184 (or 1.45%)\n",
    "* (1249 at NIH, 24 at NSF, 48 at VA)  \n",
    "\n",
    "## RQ 1.2: How many project dollars went to opioids projects in FY18?\n",
    "* Answer: 580m out of 38b (or 1.5%)\n",
    "* (Note that this describes all projects receiving funding in FY18, not just *new* projects)\n",
    "\n",
    "#### Validation\n",
    "These results match up well with what federalreporter.nih.gov query on 'opioid' yields.\n",
    "* They report 1,412 projects (compared to our 1324)  \n",
    "* They report 626 million in project funding (compared to our 580 million)\n",
    "\n",
    "https://federalreporter.nih.gov/Projects/visualize/?searchId=8dc359a1301145e8a9dead51254d8f12&searchMode=Smart&resultType=projects"
   ]
  },
  {
   "cell_type": "code",
   "execution_count": 9,
   "metadata": {},
   "outputs": [],
   "source": [
    "import pandas as pd\n",
    "import numpy as np\n",
    "\n",
    "# cd to the directory with data\n",
    "# %cd '/path/to/your/data'\n",
    "\n",
    "# download csv(s) of project data from https://federalreporter.nih.gov/FileDownload\n",
    "\n",
    "### LOAD IN PROJECT DATA\n",
    "file = '/FedRePORTER_PRJ_C_FY2018.csv'\n",
    "df = (pd.read_csv(file,skipinitialspace=True,encoding='utf-8'))\n",
    "\n",
    "# Change our date variable to the correct type\n",
    "# df['PROJECT_START_DATE'] = pd.to_datetime(df['PROJECT_START_DATE'])\n",
    "# df['PROJECT_END_DATE'] = pd.to_datetime(df['PROJECT_END_DATE'])\n",
    "# df['BUDGET_START_DATE'] = pd.to_datetime(df['BUDGET_START_DATE'])\n",
    "# df['BUDGET_END_DATE'] = pd.to_datetime(df['BUDGET_END_DATE'])\n",
    "\n",
    "# new variable is 1 for rows with opioid in project term column\n",
    "df['opioid'] = np.where(\n",
    "    df['PROJECT_TERMS'].str.contains(\"opioid\",case=False, na=False), 1, '')\n",
    "\n",
    "# create a numeric version of our flag\n",
    "df['opioid_num'] = pd.to_numeric(df['opioid'])"
   ]
  },
  {
   "cell_type": "code",
   "execution_count": 24,
   "metadata": {},
   "outputs": [
    {
     "data": {
      "text/html": [
       "<div>\n",
       "<style scoped>\n",
       "    .dataframe tbody tr th:only-of-type {\n",
       "        vertical-align: middle;\n",
       "    }\n",
       "\n",
       "    .dataframe tbody tr th {\n",
       "        vertical-align: top;\n",
       "    }\n",
       "\n",
       "    .dataframe thead th {\n",
       "        text-align: right;\n",
       "    }\n",
       "</style>\n",
       "<table border=\"1\" class=\"dataframe\">\n",
       "  <thead>\n",
       "    <tr style=\"text-align: right;\">\n",
       "      <th></th>\n",
       "      <th>PROJECT_TERMS</th>\n",
       "      <th>opioid</th>\n",
       "    </tr>\n",
       "  </thead>\n",
       "  <tbody>\n",
       "    <tr>\n",
       "      <th>7</th>\n",
       "      <td>Actins; Agonist; base; Binding; Blood Vessels; Caveolae; Cell Adhesion; Cell membrane; Cells; Cessation of life; Compartment syndromes; Coupled; Cyclic AMP; Cyclic GMP; Cytosol; Data; Development; Edema; Elements; Embryo; Endothelial Cells; Excision; experimental study; Feedback; Gene Deletion; G-Protein-Coupled Receptors; GTP-Binding Protein alpha Subunits, Gs; guanine nucleotide binding protein; improved; In Vitro; in vivo; Inflammation; Inflammatory; inhibitor/antagonist; innovation; Knowledge; Laboratories; Location; Measurement; Measures; Mediating; Methods; Microvascular Permeability; Modification; Mus; Muscle; Nitric Oxide; Nitrosation; NOS3 gene; novel therapeutics; Organ; Pathologic; Pathology; Permeability; Phosphorylation; Physicians; Platelet Activating Factor; platelet activating factor receptor; prevent; Process; Production; Property; Protein Family; Protein S; Proteins; receptor; Receptor Protein-Tyrosine Kinases; Recovery; Regulation; Research Personnel; response; restoration; Role; Signal Pathway; Signal Transduction; Small Interfering RNA; Stimulus; Surgeon; targeted treatment; Testing; Therapeutic; therapy development; Time; tissue repair; Tissues; Vascular Diseases; vascular inflammation; Vascular Permeabilities; Vasodilator Agents; vasodilator-stimulated phosphoprotein</td>\n",
       "      <td></td>\n",
       "    </tr>\n",
       "    <tr>\n",
       "      <th>8</th>\n",
       "      <td>Adhesives; African American; Age; Ancillary Study; Anticoagulants; Arrhythmia; Atherosclerosis Risk in Communities; Atrial Fibrillation; Blood Pressure; Brain; brain abnormalities; Brain natriuretic peptide; Cardiac; Cardioscopes; Cardiovascular Diseases; cardiovascular disorder prevention; cardiovascular disorder risk; Cessation of life; Clinical; clinical risk; cognitive function; cognitive testing; Cohort Studies; Contracts; Cross-Sectional Studies; Data; Detection; Devices; Electrocardiogram; Frequencies; Functional disorder; Funding; Genetic Variation; Goals; health difference; Heart Atrium; Heart failure; High Prevalence; Holter Electrocardiography; Hypertension; Hypokalemia; imaging study; Impaired cognition; implantable device; improved; Individual; Jackson Heart Study; Knowledge; Lead; longitudinal analysis; Magnetic Resonance Imaging; Measurement; Measures; Methods; modifiable risk; Monitor; monitoring device; Multi-Ethnic Study of Atherosclerosis; Myocardial Infarction; National Heart, Lung, and Blood Institute; novel; N-terminal; Opioid; Participant; Patients; Pharmaceutical Preparations; Population; Potassium; Prevalence; Prevention; Prevention strategy; pro-brain natriuretic peptide (1-76); Prospective cohort study; Psychosocial Factor; racial difference; Reporting; Research; Rest; Risk; Risk Factors; screening; Serum; sex; stroke; stroke risk; Structure; Surveillance Methods; Symptoms; Time; treatment strategy; Vision</td>\n",
       "      <td>1</td>\n",
       "    </tr>\n",
       "  </tbody>\n",
       "</table>\n",
       "</div>"
      ],
      "text/plain": [
       "                                                                                                                                                                                                                                                                                                                                                                                                                                                                                                                                                                                                                                                                                                                                                                                                                                                                                                                                                                                                                                                                                                                                                                                                                                                                                                                                                                                                                                                                                                       PROJECT_TERMS  \\\n",
       "7   Actins; Agonist; base; Binding; Blood Vessels; Caveolae; Cell Adhesion; Cell membrane; Cells; Cessation of life; Compartment syndromes; Coupled; Cyclic AMP; Cyclic GMP; Cytosol; Data; Development; Edema; Elements; Embryo; Endothelial Cells; Excision; experimental study; Feedback; Gene Deletion; G-Protein-Coupled Receptors; GTP-Binding Protein alpha Subunits, Gs; guanine nucleotide binding protein; improved; In Vitro; in vivo; Inflammation; Inflammatory; inhibitor/antagonist; innovation; Knowledge; Laboratories; Location; Measurement; Measures; Mediating; Methods; Microvascular Permeability; Modification; Mus; Muscle; Nitric Oxide; Nitrosation; NOS3 gene; novel therapeutics; Organ; Pathologic; Pathology; Permeability; Phosphorylation; Physicians; Platelet Activating Factor; platelet activating factor receptor; prevent; Process; Production; Property; Protein Family; Protein S; Proteins; receptor; Receptor Protein-Tyrosine Kinases; Recovery; Regulation; Research Personnel; response; restoration; Role; Signal Pathway; Signal Transduction; Small Interfering RNA; Stimulus; Surgeon; targeted treatment; Testing; Therapeutic; therapy development; Time; tissue repair; Tissues; Vascular Diseases; vascular inflammation; Vascular Permeabilities; Vasodilator Agents; vasodilator-stimulated phosphoprotein                                                                                                                                                     \n",
       "8   Adhesives; African American; Age; Ancillary Study; Anticoagulants; Arrhythmia; Atherosclerosis Risk in Communities; Atrial Fibrillation; Blood Pressure; Brain; brain abnormalities; Brain natriuretic peptide; Cardiac; Cardioscopes; Cardiovascular Diseases; cardiovascular disorder prevention; cardiovascular disorder risk; Cessation of life; Clinical; clinical risk; cognitive function; cognitive testing; Cohort Studies; Contracts; Cross-Sectional Studies; Data; Detection; Devices; Electrocardiogram; Frequencies; Functional disorder; Funding; Genetic Variation; Goals; health difference; Heart Atrium; Heart failure; High Prevalence; Holter Electrocardiography; Hypertension; Hypokalemia; imaging study; Impaired cognition; implantable device; improved; Individual; Jackson Heart Study; Knowledge; Lead; longitudinal analysis; Magnetic Resonance Imaging; Measurement; Measures; Methods; modifiable risk; Monitor; monitoring device; Multi-Ethnic Study of Atherosclerosis; Myocardial Infarction; National Heart, Lung, and Blood Institute; novel; N-terminal; Opioid; Participant; Patients; Pharmaceutical Preparations; Population; Potassium; Prevalence; Prevention; Prevention strategy; pro-brain natriuretic peptide (1-76); Prospective cohort study; Psychosocial Factor; racial difference; Reporting; Research; Rest; Risk; Risk Factors; screening; Serum; sex; stroke; stroke risk; Structure; Surveillance Methods; Symptoms; Time; treatment strategy; Vision   \n",
       "\n",
       "  opioid  \n",
       "7         \n",
       "8  1      "
      ]
     },
     "metadata": {},
     "output_type": "display_data"
    }
   ],
   "source": [
    "with pd.option_context('display.max_colwidth', -1): display(df[7:9][['PROJECT_TERMS','opioid']])"
   ]
  },
  {
   "cell_type": "code",
   "execution_count": 9,
   "metadata": {},
   "outputs": [
    {
     "name": "stdout",
     "output_type": "stream",
     "text": [
      "# of opioid projects = 1324\n",
      "\n",
      "% opioid projects of total = %1.4520091244077908\n"
     ]
    },
    {
     "data": {
      "text/plain": [
       "AGENCY\n",
       "AHRQ          0.0\n",
       "ALLCDC        0.0\n",
       "FDA           0.0\n",
       "NIDILRR       3.0\n",
       "NIH        1249.0\n",
       "NSF          24.0\n",
       "VA           48.0\n",
       "Name: opioid_num, dtype: float64"
      ]
     },
     "execution_count": 9,
     "metadata": {},
     "output_type": "execute_result"
    }
   ],
   "source": [
    "# RQ 1.1\n",
    "print('# of opioid projects = ' + str(df.opioid.value_counts()[1]) + '\\n')\n",
    "print('% opioid projects of total = %' + str(\n",
    "    100 * (df.opioid.value_counts()[1] / df.opioid.value_counts()[0])))\n",
    "\n",
    "grouped = df.groupby(['AGENCY'])\n",
    "grouped['opioid_num'].agg(np.sum)"
   ]
  },
  {
   "cell_type": "code",
   "execution_count": null,
   "metadata": {},
   "outputs": [],
   "source": []
  },
  {
   "cell_type": "code",
   "execution_count": 5,
   "metadata": {},
   "outputs": [
    {
     "name": "stdout",
     "output_type": "stream",
     "text": [
      "Opioid project costs = $579487666.0\n",
      "\n",
      "Total project costs = $38443347898.0\n",
      "\n",
      "Pct opioid costs over total = %1.5073808543874183\n"
     ]
    }
   ],
   "source": [
    "# RQ 1.2\n",
    "opioid_cost = df[df.opioid == '1']['FY_TOTAL_COST'].sum()\n",
    "total_cost = df['FY_TOTAL_COST'].sum()\n",
    "print('Opioid project costs = $' + str(opioid_cost))\n",
    "print('\\n' + 'Total project costs = $' + str(total_cost))\n",
    "print('\\n' + 'Pct opioid costs over total = %' + str(100 * (opioid_cost/total_cost)))"
   ]
  }
 ],
 "metadata": {
  "kernelspec": {
   "display_name": "Python 3",
   "language": "python",
   "name": "python3"
  },
  "language_info": {
   "codemirror_mode": {
    "name": "ipython",
    "version": 3
   },
   "file_extension": ".py",
   "mimetype": "text/x-python",
   "name": "python",
   "nbconvert_exporter": "python",
   "pygments_lexer": "ipython3",
   "version": "3.7.1"
  }
 },
 "nbformat": 4,
 "nbformat_minor": 2
}
